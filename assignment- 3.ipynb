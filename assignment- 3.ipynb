{
 "cells": [
  {
   "cell_type": "markdown",
   "metadata": {},
   "source": [
    "### 1. Write a Python program to find those numbers which are divisible by 7 and multiple of 5, between 1500 and 2700 (both included)"
   ]
  },
  {
   "cell_type": "code",
   "execution_count": 1,
   "metadata": {},
   "outputs": [
    {
     "name": "stdout",
     "output_type": "stream",
     "text": [
      "['1505', '1540', '1575', '1610', '1645', '1680', '1715', '1750', '1785', '1820', '1855', '1890', '1925', '1960', '1995', '2030', '2065', '2100', '2135', '2170', '2205', '2240', '2275', '2310', '2345', '2380', '2415', '2450', '2485', '2520', '2555', '2590', '2625', '2660', '2695']\n"
     ]
    }
   ],
   "source": [
    "a=[]\n",
    "for x in range(1500, 2701):\n",
    "    if (x%7==0) and (x%5==0):\n",
    "        a.append(str(x))\n",
    "print(a)"
   ]
  },
  {
   "cell_type": "markdown",
   "metadata": {},
   "source": [
    "### 2. Write a Python program to construct the following pattern, using a nested for loop."
   ]
  },
  {
   "cell_type": "code",
   "execution_count": 2,
   "metadata": {},
   "outputs": [
    {
     "name": "stdout",
     "output_type": "stream",
     "text": [
      " * \n",
      "\n",
      " *  * \n",
      "\n",
      " *  *  * \n",
      "\n",
      " *  *  *  * \n",
      "\n",
      " *  *  *  *  * \n",
      "\n",
      " *  *  *  *  *  * \n",
      "\n",
      " *  *  *  *  * \n",
      "\n",
      " *  *  *  * \n",
      "\n",
      " *  *  * \n",
      "\n",
      " *  * \n",
      "\n",
      " * \n",
      "\n",
      "\n",
      "\n"
     ]
    }
   ],
   "source": [
    "\n",
    "a=4\n",
    "\n",
    "for i in range(12):\n",
    "\n",
    "    if i<=5:\n",
    "\n",
    "        for j in range(i+1):\n",
    "\n",
    "            print(\" * \",end=\"\")\n",
    "\n",
    "        print(\"\\n\")\n",
    "\n",
    "    elif i>4 :\n",
    "\n",
    "        for j in range(a+1):\n",
    "\n",
    "            print(\" * \",end=\"\")\n",
    "\n",
    "        print(\"\\n\")\n",
    "\n",
    "        a=a-1"
   ]
  },
  {
   "cell_type": "markdown",
   "metadata": {},
   "source": [
    "### 3. Write a Python program to calculate the sum and average of n integer numbers (input from the user). Input 0 to finish."
   ]
  },
  {
   "cell_type": "code",
   "execution_count": 3,
   "metadata": {},
   "outputs": [
    {
     "name": "stdout",
     "output_type": "stream",
     "text": [
      "4\n",
      "5\n",
      "0\n",
      "Average of the numbers: 3.0, Sum of n integer 9 \n"
     ]
    }
   ],
   "source": [
    "c = 0\n",
    "total = 0\n",
    "n = 1\n",
    " \n",
    "while n != 0:\n",
    "    n = int(input(\"\"))\n",
    "    total = total + n\n",
    "    c += 1\n",
    "\n",
    "if c == 0:\n",
    "    print(\"Input some numbers\")\n",
    "else:\n",
    "    print(\"Average of the numbers: {}, Sum of n integer {} \".format(total / c,total))"
   ]
  },
  {
   "cell_type": "markdown",
   "metadata": {},
   "source": [
    "### 4. Write a Python function to sum all the numbers in a list. Sample List : (8, 2, 3, 0, 7)"
   ]
  },
  {
   "cell_type": "code",
   "execution_count": 4,
   "metadata": {},
   "outputs": [
    {
     "name": "stdout",
     "output_type": "stream",
     "text": [
      "20\n"
     ]
    }
   ],
   "source": [
    "def add(n):\n",
    "    total = 0\n",
    "    for i  in n:\n",
    "        total += i\n",
    "    return total\n",
    "\n",
    "print(add([8,2,3,0,7]))\n",
    "        "
   ]
  },
  {
   "cell_type": "markdown",
   "metadata": {},
   "source": [
    "### 5. Write a Python function to calculate the factorial of a number (a non- negative integer). The function accepts the number as an argument."
   ]
  },
  {
   "cell_type": "code",
   "execution_count": 5,
   "metadata": {},
   "outputs": [
    {
     "name": "stdout",
     "output_type": "stream",
     "text": [
      "24\n"
     ]
    }
   ],
   "source": [
    "def fact(n):\n",
    "    if n == 0:\n",
    "        return 1\n",
    "    else:\n",
    "        return n * fact(n-1)\n",
    "\n",
    "print(fact(4))"
   ]
  },
  {
   "cell_type": "markdown",
   "metadata": {},
   "source": [
    "### 6. Write a Python function that accepts a string and calculate the number of upper case letters and lower case letters."
   ]
  },
  {
   "cell_type": "code",
   "execution_count": 6,
   "metadata": {},
   "outputs": [
    {
     "name": "stdout",
     "output_type": "stream",
     "text": [
      "Enter string:jsjdJJJ\n",
      "The number of lowercase characters is: 4\n",
      "The number of uppercase characters is: 3\n"
     ]
    }
   ],
   "source": [
    "string=input(\"Enter string:\")\n",
    "count_lower_case=0\n",
    "count_upper_case=0\n",
    "for i in string:\n",
    "    if(i.islower()):\n",
    "        count_lower_case= count_lower_case+1\n",
    "    elif(i.isupper()):\n",
    "        count_upper_case= count_upper_case+1\n",
    "print(\"The number of lowercase characters is:\",count_lower_case)\n",
    "\n",
    "print(\"The number of uppercase characters is:\",count_upper_case)\n"
   ]
  },
  {
   "cell_type": "markdown",
   "metadata": {},
   "source": [
    "### 7. Write a Python program to detect the number of local variables declared in a function."
   ]
  },
  {
   "cell_type": "code",
   "execution_count": 7,
   "metadata": {},
   "outputs": [
    {
     "name": "stdout",
     "output_type": "stream",
     "text": [
      "Number of local varibale are: 4\n"
     ]
    }
   ],
   "source": [
    "def demo():\n",
    "    a = [1,2]\n",
    "    b = 666\n",
    "    c='black'\n",
    "    d=(1,55)\n",
    "    \n",
    "# main\n",
    "print(\"Number of local varibale are:\",demo.__code__.co_nlocals)"
   ]
  },
  {
   "cell_type": "markdown",
   "metadata": {},
   "source": [
    "### 8. Write a Python program to create a function that takes one argument, and that argument will be multiplied with an unknown given number"
   ]
  },
  {
   "cell_type": "code",
   "execution_count": 8,
   "metadata": {},
   "outputs": [
    {
     "name": "stdout",
     "output_type": "stream",
     "text": [
      "Double of 30 = 60\n"
     ]
    }
   ],
   "source": [
    "def arg(n):\n",
    "    return lambda x : x * n\n",
    "result = arg(2)\n",
    "print(\"Double of 30 =\", result(30))"
   ]
  },
  {
   "cell_type": "markdown",
   "metadata": {},
   "source": [
    "### 9. Write a Python program to sort a list of tuples using Lambda.\n",
    "#Original list of tuples:\n",
    "[('English', 88), ('Science', 90), ('Maths', 97), ('Social sciences', 82)]\n",
    "Sorting the List of Tuples:\n",
    "[('Social sciences', 82), ('English', 88), ('Science', 90), ('Maths', 97)]"
   ]
  },
  {
   "cell_type": "code",
   "execution_count": 9,
   "metadata": {},
   "outputs": [
    {
     "name": "stdout",
     "output_type": "stream",
     "text": [
      "[('English', 88), ('Science', 90), ('Maths', 97), ('Social sciences', 82)]\n",
      "\n",
      "\n",
      "[('Social sciences', 82), ('English', 88), ('Science', 90), ('Maths', 97)]\n"
     ]
    }
   ],
   "source": [
    "lst = [('English', 88), ('Science', 90), ('Maths', 97), ('Social sciences', 82)]\n",
    "print(lst)\n",
    "lst.sort(key = lambda x: x[1])\n",
    "print(\"\\n\")\n",
    "print(lst)"
   ]
  },
  {
   "cell_type": "markdown",
   "metadata": {},
   "source": [
    "### 10. Write a Python program to check whether a given string is number or not using Lambda."
   ]
  },
  {
   "cell_type": "code",
   "execution_count": 13,
   "metadata": {},
   "outputs": [
    {
     "name": "stdout",
     "output_type": "stream",
     "text": [
      "True\n",
      "False\n"
     ]
    }
   ],
   "source": [
    "is_num = lambda q: q.replace('.','',1).isdigit()\n",
    "print(is_num('666'))\n",
    "print(is_num('ab6'))\n"
   ]
  },
  {
   "cell_type": "markdown",
   "metadata": {},
   "source": [
    "### 11. Write a Python program to add three given lists using Python map and lambda."
   ]
  },
  {
   "cell_type": "code",
   "execution_count": 2,
   "metadata": {},
   "outputs": [
    {
     "name": "stdout",
     "output_type": "stream",
     "text": [
      "list1 [5, 6, 7, 8]\n",
      "list2 [1, 1, 1, 1]\n",
      "list3 [4, 4, 4, 4]\n",
      "New list after adding above three lists: [10, 11, 12, 13]\n"
     ]
    }
   ],
   "source": [
    "nums1 = [5,6,7,8] \n",
    "nums2 = [1,1,1,1] \n",
    "nums3 = [4,4,4,4] \n",
    "print('list1',nums1)  \n",
    "print('list2',nums2)  \n",
    "print('list3',nums3)  \n",
    "result = list(map(lambda x, y, z: x + y + z, nums1, nums2, nums3)) \n",
    "\n",
    "print('New list after adding above three lists:',result)"
   ]
  },
  {
   "cell_type": "markdown",
   "metadata": {},
   "source": [
    "### Write a Python program to convert a given list of tuples to a list of strings using map function."
   ]
  },
  {
   "cell_type": "code",
   "execution_count": 5,
   "metadata": {},
   "outputs": [
    {
     "name": "stdout",
     "output_type": "stream",
     "text": [
      "Original list of tuples: [('black', 'and'), ('yellow', 'color')]\n",
      "Convert the said list of tuples to a list of strings:  ['black and', 'yellow color']\n"
     ]
    }
   ],
   "source": [
    "lst = [('black', 'and'), ('yellow', 'color')]\n",
    "print(\"Original list of tuples:\",colors)\n",
    "result = list(map(' '.join, lst))\n",
    "print(\"Convert the said list of tuples to a list of strings: \",result)\n",
    "\n"
   ]
  },
  {
   "cell_type": "markdown",
   "metadata": {},
   "source": [
    "### Write a Python program to split a given dictionary of lists into list of dictionaries using map function."
   ]
  },
  {
   "cell_type": "code",
   "execution_count": 8,
   "metadata": {},
   "outputs": [
    {
     "name": "stdout",
     "output_type": "stream",
     "text": [
      "dictionary of lists {'states': ['HP', 'UK']}\n",
      "list of dictionaries [{'states': 'HP'}, {'states': 'UK'}]\n"
     ]
    }
   ],
   "source": [
    "marks = {'states': ['HP','UK']}\n",
    "\n",
    "print('dictionary of lists',marks)\n",
    "result = list(map(dict, zip(*[[(key, val) for val in value] for key, value in marks.items()])))\n",
    "print(\"list of dictionaries\",result)\n"
   ]
  },
  {
   "cell_type": "markdown",
   "metadata": {},
   "source": [
    "### Write a Python program that matches a string that has an a followed by zero or one &#39;b&#39;"
   ]
  },
  {
   "cell_type": "code",
   "execution_count": 63,
   "metadata": {},
   "outputs": [
    {
     "name": "stdout",
     "output_type": "stream",
     "text": [
      "Found a match!\n"
     ]
    }
   ],
   "source": [
    "import re\n",
    "patterns = 'ab?'\n",
    "text='abc'\n",
    "if re.search(patterns,text):\n",
    "    print('Found a match!')\n",
    "else:\n",
    "    print('Not matched!')\n",
    "\n"
   ]
  },
  {
   "cell_type": "markdown",
   "metadata": {},
   "source": [
    "### Write a Python program that matches a string that has an &#39;a&#39; followed by anything, ending in &#39;b&#39;."
   ]
  },
  {
   "cell_type": "code",
   "execution_count": 49,
   "metadata": {},
   "outputs": [
    {
     "name": "stdout",
     "output_type": "stream",
     "text": [
      "Found a match!\n"
     ]
    }
   ],
   "source": [
    "import re\n",
    "\n",
    "patterns = 'a.*?b$'\n",
    "text='akjkb'\n",
    "if re.search(patterns,  text):\n",
    "    print('Found a match!')\n",
    "else:\n",
    "    print('Not matched!')\n",
    "\n"
   ]
  },
  {
   "cell_type": "markdown",
   "metadata": {},
   "source": [
    "### Write a Python program to remove leading zeros from an IP address."
   ]
  },
  {
   "cell_type": "code",
   "execution_count": 67,
   "metadata": {},
   "outputs": [
    {
     "name": "stdout",
     "output_type": "stream",
     "text": [
      "100.010.005.201\n",
      "new IP:  100.10.5.201\n"
     ]
    }
   ],
   "source": [
    "ip =\"100.010.005.201\"\n",
    "print(ip)\n",
    "\n",
    "new_ip = \".\".join([str(int(i)) for i in ip.split(\".\")])\n",
    "print('new IP: ',new_ip)"
   ]
  },
  {
   "cell_type": "markdown",
   "metadata": {},
   "source": [
    "### Write a Python program to convert Python dictionary object (sort by key) to JSON data. Print the object members with indent level 4."
   ]
  },
  {
   "cell_type": "code",
   "execution_count": 70,
   "metadata": {},
   "outputs": [
    {
     "name": "stdout",
     "output_type": "stream",
     "text": [
      "dict:  {'5': 'green', '6': 'red', '1': 'black'}\n",
      "\n",
      "JSON data:\n",
      "{\n",
      "   \"1\": \"black\",\n",
      "   \"5\": \"green\",\n",
      "   \"6\": \"red\"\n",
      "}\n"
     ]
    }
   ],
   "source": [
    "import json\n",
    "dct = {'5': 'green', '6': 'red', '1': 'black'}\n",
    "print(\"dict: \",dct)\n",
    "\n",
    "\n",
    "print(json.dumps(dct, sort_keys=True, indent=3))"
   ]
  },
  {
   "cell_type": "markdown",
   "metadata": {},
   "source": [
    "### Write a Python program to create a new JSON file from an existing JSON file"
   ]
  },
  {
   "cell_type": "code",
   "execution_count": null,
   "metadata": {},
   "outputs": [],
   "source": [
    "import json\n",
    "\n",
    "with open('states.json') as f:\n",
    "    state_data= json.load(f)\n",
    "\n",
    "for state in state_data['states']:\n",
    "    del state['area_codes']\n",
    "\n",
    "with open('new_states.json', 'w') as f:\n",
    "    json.dump(state_data, f, indent=2)"
   ]
  },
  {
   "cell_type": "markdown",
   "metadata": {},
   "source": [
    "### Define a Python function student(). Using function attributes display the names of all arguments"
   ]
  },
  {
   "cell_type": "code",
   "execution_count": 74,
   "metadata": {},
   "outputs": [
    {
     "name": "stdout",
     "output_type": "stream",
     "text": [
      "Student ID: 666\n",
      "Student Name: jitener\n"
     ]
    }
   ],
   "source": [
    "def student(student_id, student_name):\n",
    "    return f'Student ID: {student_id}\\nStudent Name: {student_name}'\n",
    "print(student('666', 'jitener'))"
   ]
  },
  {
   "cell_type": "markdown",
   "metadata": {},
   "source": [
    "### Write a Python program to crate two empty classes, Student and Marks. Now create some instances and check whether they are instances of the said classes or not. Also, check whether the said classes are subclasses of the built-in object class or not."
   ]
  },
  {
   "cell_type": "code",
   "execution_count": 75,
   "metadata": {},
   "outputs": [
    {
     "name": "stdout",
     "output_type": "stream",
     "text": [
      "True\n",
      "False\n",
      "True\n",
      "False\n",
      "\n",
      "Check whether the said classes are subclasses of the built-in object class or not.\n",
      "True\n",
      "True\n"
     ]
    }
   ],
   "source": [
    "class Student:\n",
    "    pass \n",
    "class Marks:\n",
    "    pass \n",
    "student1 = Student()\n",
    "marks1 = Marks()\n",
    "print(isinstance(student1, Student))\n",
    "print(isinstance(marks1, Student))\n",
    "print(isinstance(marks1, Marks)) \n",
    "print(isinstance(student1, Marks))\n",
    "print(\"\\nCheck whether the said classes are subclasses of the built-in object class or not.\")\n",
    "print(issubclass(Student, object))\n",
    "print(issubclass(Marks, object)) "
   ]
  }
 ],
 "metadata": {
  "kernelspec": {
   "display_name": "Python 3",
   "language": "python",
   "name": "python3"
  },
  "language_info": {
   "codemirror_mode": {
    "name": "ipython",
    "version": 3
   },
   "file_extension": ".py",
   "mimetype": "text/x-python",
   "name": "python",
   "nbconvert_exporter": "python",
   "pygments_lexer": "ipython3",
   "version": "3.8.5"
  }
 },
 "nbformat": 4,
 "nbformat_minor": 4
}
