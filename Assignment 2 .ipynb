{
 "cells": [
  {
   "cell_type": "markdown",
   "metadata": {},
   "source": [
    "## 1. Write a Python function to find the Max of three numbers."
   ]
  },
  {
   "cell_type": "code",
   "execution_count": 4,
   "metadata": {},
   "outputs": [
    {
     "name": "stdout",
     "output_type": "stream",
     "text": [
      "Max number is :  8\n"
     ]
    }
   ],
   "source": [
    "def maxOf3(num1,num2,num3):\n",
    "    if(num1 >= num2) and (num1 >= num3):\n",
    "        \n",
    "        max_num = num1\n",
    "\n",
    "    elif(num2 >= num1) and (num2 >= num3):\n",
    "        \n",
    "        max_num = num2\n",
    "\n",
    "    else:\n",
    "        \n",
    "        max_num = num3\n",
    "               \n",
    "    print(\"Max number is : \" , max_num)\n",
    "\n",
    "#calling MaxOf3 function\n",
    "maxOf3(1,8,2)\n",
    "    "
   ]
  },
  {
   "cell_type": "markdown",
   "metadata": {},
   "source": [
    "## 2. Write a Python function to sum all the numbers in a list."
   ]
  },
  {
   "cell_type": "code",
   "execution_count": 7,
   "metadata": {},
   "outputs": [
    {
     "data": {
      "text/plain": [
       "16"
      ]
     },
     "execution_count": 7,
     "metadata": {},
     "output_type": "execute_result"
    }
   ],
   "source": [
    "def add(lst):\n",
    "    total = 0 \n",
    "    for i in lst:\n",
    "        total += i   \n",
    "    return total\n",
    "\n",
    "add([2,4,10])\n",
    "    "
   ]
  },
  {
   "cell_type": "markdown",
   "metadata": {},
   "source": [
    "## 3. Write a Python script to add a key to a dictionary."
   ]
  },
  {
   "cell_type": "code",
   "execution_count": 35,
   "metadata": {},
   "outputs": [
    {
     "name": "stdout",
     "output_type": "stream",
     "text": [
      "old dict: {'a': 8, 'b': 10}\n",
      "updated dct:  {'a': 8, 'b': 10, 'c': 5}\n"
     ]
    }
   ],
   "source": [
    "dct = {'a':8, 'b': 10}\n",
    "print('old dict:',dct)\n",
    "dct.update({'c':5})\n",
    "print('updated dct: ',dct)"
   ]
  },
  {
   "cell_type": "markdown",
   "metadata": {},
   "source": [
    "## 4. Write a Python program to iterate over dictionaries using for loops."
   ]
  },
  {
   "cell_type": "code",
   "execution_count": 36,
   "metadata": {},
   "outputs": [
    {
     "name": "stdout",
     "output_type": "stream",
     "text": [
      "A 1\n",
      "B 2\n",
      "C 3\n"
     ]
    }
   ],
   "source": [
    "dct = {'A': 1, 'B': 2, 'C': 3}\n",
    "for key, value in dct.items():\n",
    "    print(key, value)"
   ]
  },
  {
   "cell_type": "markdown",
   "metadata": {},
   "source": [
    "# 5. Write a Python program to remove duplicates from Dictionary."
   ]
  },
  {
   "cell_type": "code",
   "execution_count": 37,
   "metadata": {},
   "outputs": [
    {
     "name": "stdout",
     "output_type": "stream",
     "text": [
      "{'id1': {'name': ['Sara'], 'class': ['V'], 'subject_integration': ['english, math, science']}, 'id2': {'name': ['David'], 'class': ['V'], 'subject_integration': ['english, math, science']}}\n"
     ]
    }
   ],
   "source": [
    "student_data = {'id1': \n",
    "   {'name': ['Sara'], \n",
    "    'class': ['V'], \n",
    "    'subject_integration': ['english, math, science']\n",
    "   },\n",
    " 'id2': \n",
    "  {'name': ['David'], \n",
    "    'class': ['V'], \n",
    "    'subject_integration': ['english, math, science']\n",
    "   },\n",
    " 'id3': \n",
    "    {'name': ['Sara'], \n",
    "    'class': ['V'], \n",
    "    'subject_integration': ['english, math, science']\n",
    "    }\n",
    "                \n",
    "}\n",
    "\n",
    "dct = {}\n",
    "\n",
    "for key, value in student_data.items():\n",
    "    if value not in dct.values():\n",
    "        dct[key] = value\n",
    "\n",
    "print(dct)\n"
   ]
  },
  {
   "cell_type": "markdown",
   "metadata": {},
   "source": [
    "## 6. Print First 10 natural numbers using while loop"
   ]
  },
  {
   "cell_type": "code",
   "execution_count": 39,
   "metadata": {},
   "outputs": [
    {
     "name": "stdout",
     "output_type": "stream",
     "text": [
      "1\n",
      "2\n",
      "3\n",
      "4\n",
      "5\n",
      "6\n",
      "7\n",
      "8\n",
      "9\n",
      "10\n"
     ]
    }
   ],
   "source": [
    "i = 1\n",
    "while i<=10:\n",
    "    print(i)\n",
    "    i += 1\n",
    "    \n",
    "\n"
   ]
  },
  {
   "cell_type": "markdown",
   "metadata": {},
   "source": [
    "## 7. Count the total number of digits in a number"
   ]
  },
  {
   "cell_type": "code",
   "execution_count": 43,
   "metadata": {},
   "outputs": [
    {
     "name": "stdout",
     "output_type": "stream",
     "text": [
      "Number of digits are: 9\n"
     ]
    }
   ],
   "source": [
    "num = 123456789\n",
    "count = 0\n",
    "\n",
    "while num > 0:\n",
    "    count += 1\n",
    "    num = num // 10\n",
    "print('Number of digits are:',count)"
   ]
  },
  {
   "cell_type": "markdown",
   "metadata": {},
   "source": [
    "## 8. Use else block to display a message “Done” after successful execution of for loop"
   ]
  },
  {
   "cell_type": "code",
   "execution_count": 44,
   "metadata": {},
   "outputs": [
    {
     "name": "stdout",
     "output_type": "stream",
     "text": [
      "0\n",
      "1\n",
      "2\n",
      "3\n",
      "4\n",
      "Done\n"
     ]
    }
   ],
   "source": [
    "for i in range(5):\n",
    "    print(i)\n",
    "else:\n",
    "    print('Done')\n",
    "    \n"
   ]
  },
  {
   "cell_type": "markdown",
   "metadata": {},
   "source": [
    "## 9. Reverse a given integer number"
   ]
  },
  {
   "cell_type": "code",
   "execution_count": 45,
   "metadata": {},
   "outputs": [
    {
     "name": "stdout",
     "output_type": "stream",
     "text": [
      "321\n"
     ]
    }
   ],
   "source": [
    "number ='123'\n",
    "print(number[::-1])"
   ]
  },
  {
   "cell_type": "markdown",
   "metadata": {},
   "source": [
    "## 10. Find the sum of the series upto n terms"
   ]
  },
  {
   "cell_type": "code",
   "execution_count": 124,
   "metadata": {},
   "outputs": [
    {
     "name": "stdout",
     "output_type": "stream",
     "text": [
      "Enter your terms: 2\n",
      "1 11 \n",
      "Sum of the series =  12\n"
     ]
    }
   ],
   "source": [
    "num = int(input('Enter your terms: '))\n",
    "s = 0\n",
    "addition = 0\n",
    "\n",
    "for i in range(0, num):\n",
    "    s = s*10+1\n",
    "    print(s, end = \" \")\n",
    "    addition = addition + s   \n",
    "print('\\nSum of the series = ', addition )"
   ]
  },
  {
   "cell_type": "markdown",
   "metadata": {},
   "source": [
    "## Create a child class Bus that will inherit all of the variables and methods of the Vehicle class"
   ]
  },
  {
   "cell_type": "code",
   "execution_count": 57,
   "metadata": {},
   "outputs": [
    {
     "name": "stdout",
     "output_type": "stream",
     "text": [
      "Vehicle Name: School Volvo \n",
      "Speed: 180 \n",
      "mileage: 12\n"
     ]
    }
   ],
   "source": [
    "class Vehicle:\n",
    "    \n",
    "    def __init__(self, name, max_speed, mileage):\n",
    "        self.name = name\n",
    "        self.max_speed = max_speed\n",
    "        self.mileage = mileage\n",
    "        \n",
    "        \n",
    "class Bus(Vehicle):\n",
    "    pass\n",
    "        \n",
    "veh = Bus('School Volvo', 180, 12)\n",
    "print('Vehicle Name:', veh.name,'\\n' 'Speed:', veh.max_speed, '\\n' 'mileage:', veh.mileage)\n"
   ]
  },
  {
   "cell_type": "markdown",
   "metadata": {},
   "source": [
    "## 12.Define property that should have the same value for every class instance Define a class attribute”color” with a default value white. I.e., Every Vehicle should be white."
   ]
  },
  {
   "cell_type": "code",
   "execution_count": 122,
   "metadata": {},
   "outputs": [
    {
     "name": "stdout",
     "output_type": "stream",
     "text": [
      "color: white \tBus: School Volvo \tspeed: 180 \tmileage: 12\n",
      "Color: white \tVehicle name: Audi Q5 \tspeed: 241 \tmileage: 18\n"
     ]
    }
   ],
   "source": [
    "class Vehicle:\n",
    "    color = 'white'\n",
    "    def __init__(self, name, max_speed, mileage):\n",
    "        self.name = name\n",
    "        self.max_speed = max_speed\n",
    "        self.mileage = mileage\n",
    "        \n",
    "\n",
    "class Bus(Vehicle):\n",
    "    pass\n",
    "\n",
    "class Car(Vehicle):\n",
    "    pass\n",
    "\n",
    "obj1 = Bus('School Volvo', 180, 12)\n",
    "obj2 = Car('Audi Q5', 241, 18)\n",
    "print('color:', obj1.color, '\\t' 'Bus:', obj1.name,'\\t' 'speed:', obj1.max_speed, '\\t' 'mileage:', obj1.mileage)\n",
    "print('Color:', obj2.color, '\\t' 'Vehicle name:', obj2.name, '\\t' 'speed:', obj2.max_speed, '\\t' 'mileage:', obj2.mileage)"
   ]
  },
  {
   "cell_type": "markdown",
   "metadata": {},
   "source": [
    "## 13. Create a 4X2 integer array and Prints its attributes"
   ]
  },
  {
   "cell_type": "code",
   "execution_count": 114,
   "metadata": {},
   "outputs": [
    {
     "name": "stdout",
     "output_type": "stream",
     "text": [
      "[[42 95]\n",
      " [61 90]\n",
      " [76 79]\n",
      " [99  1]]\n",
      "shape of the array is: (4, 2)\n",
      "dimention of the array is : 2\n"
     ]
    }
   ],
   "source": [
    "import numpy as np\n",
    "# import array as ar\n",
    "\n",
    "arr = np.random.randint(100,size=(8)).reshape(4,2)\n",
    "print(arr)\n",
    "print(\"shape of the array is:\" , arr.shape)\n",
    "print(\"dimention of the array is :\" , arr.ndim)\n"
   ]
  },
  {
   "cell_type": "markdown",
   "metadata": {},
   "source": [
    "## 14. Create a 5X2 integer array from a range between 100 to 200 such that the difference between each element is 10"
   ]
  },
  {
   "cell_type": "code",
   "execution_count": 115,
   "metadata": {},
   "outputs": [
    {
     "name": "stdout",
     "output_type": "stream",
     "text": [
      "[[100 110]\n",
      " [120 130]\n",
      " [140 150]\n",
      " [160 170]\n",
      " [180 190]]\n"
     ]
    }
   ],
   "source": [
    "arr = np.arange(100, 200, 10).reshape(5, 2)\n",
    "print(arr)"
   ]
  },
  {
   "cell_type": "markdown",
   "metadata": {},
   "source": [
    "## 15. Create a result array by adding the following two NumPy arrays. Next, modify the result array by calculating the square of each element"
   ]
  },
  {
   "cell_type": "code",
   "execution_count": 120,
   "metadata": {},
   "outputs": [
    {
     "name": "stdout",
     "output_type": "stream",
     "text": [
      "after addition:\n",
      " [[20 39 33]\n",
      " [25 25 28]]\n",
      "Square of each element of array:\n",
      " [[ 400 1521 1089]\n",
      " [ 625  625  784]]\n"
     ]
    }
   ],
   "source": [
    "arrayOne = np.array([[5, 6, 9], [21 ,18, 27]])\n",
    "arrayTwo = np.array([[15 ,33, 24], [4 ,7, 1]])\n",
    "\n",
    "result = arrayOne + arrayTwo\n",
    "print('after addition:\\n', result)\n",
    "print('Square of each element of array:\\n',np.square(result))"
   ]
  },
  {
   "cell_type": "markdown",
   "metadata": {},
   "source": [
    "## 16. Sort following NumPy array"
   ]
  },
  {
   "cell_type": "markdown",
   "metadata": {},
   "source": [
    "## 1 - sort array by the second row"
   ]
  },
  {
   "cell_type": "markdown",
   "metadata": {},
   "source": [
    "##  2 - Sort the array by the second column"
   ]
  },
  {
   "cell_type": "code",
   "execution_count": 123,
   "metadata": {},
   "outputs": [
    {
     "name": "stdout",
     "output_type": "stream",
     "text": [
      "[[ 5  6  9]\n",
      " [21 18 27]\n",
      " [15 33 24]\n",
      " [ 4  7  1]]\n",
      "\n",
      "sort by second row\n",
      "[[ 6  5  9]\n",
      " [18 21 27]\n",
      " [33 15 24]\n",
      " [ 7  4  1]]\n",
      "\n",
      "\n",
      "sort by 2nd column\n",
      "[[ 5  6  9]\n",
      " [ 4  7  1]\n",
      " [21 18 27]\n",
      " [15 33 24]]\n"
     ]
    }
   ],
   "source": [
    "import numpy as np\n",
    "\n",
    "arr = np.array([[5, 6, 9], [21 ,18, 27],[15 ,33, 24], [4 ,7, 1]])\n",
    "print(arr)\n",
    "print()\n",
    "\n",
    "# sort by 2nd row\n",
    "print('sort by second row')\n",
    "row_sort = arr[:,arr[1].argsort()]\n",
    "print(row_sort)\n",
    "print('\\n')\n",
    "\n",
    "# sort by 2nd column\n",
    "print('sort by 2nd column')\n",
    "new_sort = arr[arr[:,1].argsort()]\n",
    "print(new_sort)"
   ]
  }
 ],
 "metadata": {
  "kernelspec": {
   "display_name": "Python 3",
   "language": "python",
   "name": "python3"
  },
  "language_info": {
   "codemirror_mode": {
    "name": "ipython",
    "version": 3
   },
   "file_extension": ".py",
   "mimetype": "text/x-python",
   "name": "python",
   "nbconvert_exporter": "python",
   "pygments_lexer": "ipython3",
   "version": "3.8.5"
  }
 },
 "nbformat": 4,
 "nbformat_minor": 4
}
